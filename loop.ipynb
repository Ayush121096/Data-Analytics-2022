{
 "cells": [
  {
   "cell_type": "code",
   "execution_count": 1,
   "metadata": {},
   "outputs": [
    {
     "name": "stdout",
     "output_type": "stream",
     "text": [
      "p\n",
      "y\n",
      "t\n",
      "h\n",
      "o\n",
      "n\n"
     ]
    }
   ],
   "source": [
    "x = \"python\"\n",
    "for l in x:\n",
    "    print(l)"
   ]
  },
  {
   "cell_type": "code",
   "execution_count": 3,
   "metadata": {},
   "outputs": [
    {
     "name": "stdout",
     "output_type": "stream",
     "text": [
      "i\n",
      " \n",
      "h\n",
      "a\n",
      "v\n",
      "e\n",
      " \n",
      "a\n",
      "n\n",
      " \n",
      "o\n",
      "p\n",
      "p\n",
      "o\n",
      "r\n",
      "t\n",
      "u\n",
      "n\n",
      "i\n",
      "t\n",
      "y\n",
      " \n",
      "f\n",
      "o\n",
      "r\n",
      " \n",
      "f\n",
      "i\n",
      "l\n",
      "m\n"
     ]
    }
   ],
   "source": [
    "a = \"i have an opportunity for film\"\n",
    "for c in a:\n",
    "    print(c)"
   ]
  },
  {
   "cell_type": "code",
   "execution_count": 5,
   "metadata": {},
   "outputs": [
    {
     "name": "stdout",
     "output_type": "stream",
     "text": [
      "a 1\n",
      "b 1\n",
      "c 1\n",
      "d 1\n",
      "e 1\n"
     ]
    }
   ],
   "source": [
    "names = ['a', 'b', 'c', 'd','e']\n",
    "for name in names:\n",
    "    print(name, len(name)) # know the length, write the same (name)"
   ]
  },
  {
   "cell_type": "code",
   "execution_count": 7,
   "metadata": {},
   "outputs": [
    {
     "name": "stdout",
     "output_type": "stream",
     "text": [
      "i love to eat apap\n",
      "i love to eat apba\n",
      "i love to eat aple\n"
     ]
    }
   ],
   "source": [
    "fruits = ['ap', 'ba', 'le']\n",
    "for items in fruits:\n",
    "    print(f'i love to eat ap{items}')"
   ]
  },
  {
   "cell_type": "markdown",
   "metadata": {},
   "source": [
    "#Range function\n",
    "\n"
   ]
  },
  {
   "cell_type": "code",
   "execution_count": 2,
   "metadata": {},
   "outputs": [
    {
     "name": "stdout",
     "output_type": "stream",
     "text": [
      "proof 0\n",
      "proof 1\n",
      "proof 2\n",
      "proof 3\n",
      "proof 4\n",
      "proof 5\n",
      "proof 6\n",
      "proof 7\n",
      "proof 8\n",
      "proof 9\n"
     ]
    }
   ],
   "source": [
    "for i in range(10):\n",
    "    print('proof',i)\n"
   ]
  },
  {
   "cell_type": "code",
   "execution_count": 1,
   "metadata": {},
   "outputs": [
    {
     "name": "stdout",
     "output_type": "stream",
     "text": [
      "10\n",
      "9\n",
      "8\n",
      "7\n",
      "6\n"
     ]
    }
   ],
   "source": [
    "#reverse loop\n",
    "for num in range(10,5,-1):\n",
    "    print(num)"
   ]
  },
  {
   "cell_type": "code",
   "execution_count": 6,
   "metadata": {},
   "outputs": [
    {
     "name": "stdout",
     "output_type": "stream",
     "text": [
      "1275\n"
     ]
    }
   ],
   "source": [
    "#find the sum of 1 to 50 \n",
    "x = 0\n",
    "for i in range (1,51):\n",
    "    x += i\n",
    "print(x)\n"
   ]
  },
  {
   "cell_type": "code",
   "execution_count": 7,
   "metadata": {},
   "outputs": [
    {
     "name": "stdout",
     "output_type": "stream",
     "text": [
      "0\n",
      "0\n",
      "3\n",
      "3\n",
      "3\n",
      "9\n",
      "9\n",
      "9\n",
      "18\n",
      "18\n",
      "18\n",
      "30\n",
      "30\n",
      "30\n",
      "45\n",
      "45\n",
      "45\n",
      "63\n",
      "63\n",
      "63\n",
      "84\n",
      "84\n",
      "84\n",
      "108\n",
      "108\n",
      "108\n",
      "135\n",
      "135\n",
      "135\n",
      "165\n",
      "165\n",
      "165\n",
      "198\n",
      "198\n",
      "198\n",
      "234\n",
      "234\n",
      "234\n",
      "273\n",
      "273\n",
      "273\n",
      "315\n",
      "315\n",
      "315\n",
      "360\n",
      "360\n",
      "360\n",
      "408\n",
      "408\n",
      "408\n",
      "459\n",
      "459\n",
      "459\n",
      "513\n",
      "513\n",
      "513\n",
      "570\n",
      "570\n",
      "570\n",
      "630\n",
      "630\n",
      "630\n",
      "693\n",
      "693\n",
      "693\n",
      "759\n",
      "759\n",
      "759\n",
      "828\n",
      "828\n",
      "828\n",
      "900\n",
      "900\n",
      "900\n",
      "975\n",
      "975\n",
      "975\n",
      "1053\n",
      "1053\n",
      "1053\n",
      "1134\n",
      "1134\n",
      "1134\n",
      "1218\n",
      "1218\n",
      "1218\n",
      "1305\n",
      "1305\n",
      "1305\n",
      "1395\n",
      "1395\n",
      "1395\n",
      "1488\n",
      "1488\n",
      "1488\n",
      "1584\n",
      "1584\n",
      "1584\n",
      "1683\n",
      "1683\n"
     ]
    }
   ],
   "source": [
    "#add all the numbers that are divisble by 3 ranging from 1 to 100\n",
    "x = 0\n",
    "for i in range (1,101):\n",
    "    if i % 3 ==0:\n",
    "        x += i\n",
    "    print(x)"
   ]
  },
  {
   "cell_type": "code",
   "execution_count": 8,
   "metadata": {},
   "outputs": [
    {
     "name": "stdout",
     "output_type": "stream",
     "text": [
      "50.5\n"
     ]
    }
   ],
   "source": [
    "#average of all numbers from 1 to 100\n",
    "x = 0\n",
    "for i in range(1,101):\n",
    "    x += i\n",
    "mean = x /100\n",
    "print(mean)    "
   ]
  },
  {
   "cell_type": "code",
   "execution_count": null,
   "metadata": {},
   "outputs": [],
   "source": []
  }
 ],
 "metadata": {
  "interpreter": {
   "hash": "1db1e46687607773b5deea1fcae2ec01a768c1fc8772b834ede2f540618042fb"
  },
  "kernelspec": {
   "display_name": "Python 3.9.7 ('base')",
   "language": "python",
   "name": "python3"
  },
  "language_info": {
   "codemirror_mode": {
    "name": "ipython",
    "version": 3
   },
   "file_extension": ".py",
   "mimetype": "text/x-python",
   "name": "python",
   "nbconvert_exporter": "python",
   "pygments_lexer": "ipython3",
   "version": "3.9.7"
  },
  "orig_nbformat": 4
 },
 "nbformat": 4,
 "nbformat_minor": 2
}
