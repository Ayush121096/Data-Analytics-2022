{
 "cells": [
  {
   "cell_type": "markdown",
   "metadata": {},
   "source": [
    "\n",
    "#string and Text"
   ]
  },
  {
   "cell_type": "code",
   "execution_count": 5,
   "metadata": {},
   "outputs": [
    {
     "name": "stdout",
     "output_type": "stream",
     "text": [
      "hello\n"
     ]
    }
   ],
   "source": [
    "my_string = 'hello'\n",
    "print(my_string)\n"
   ]
  },
  {
   "cell_type": "code",
   "execution_count": 6,
   "metadata": {},
   "outputs": [
    {
     "name": "stdout",
     "output_type": "stream",
     "text": [
      "hello\n"
     ]
    }
   ],
   "source": [
    "my_string = \"hello\"\n",
    "print(my_string)"
   ]
  },
  {
   "cell_type": "code",
   "execution_count": 10,
   "metadata": {},
   "outputs": [
    {
     "name": "stdout",
     "output_type": "stream",
     "text": [
      "hello\n"
     ]
    }
   ],
   "source": [
    "my_string = \"\"\"hello\"\"\"\n",
    "print(my_string)"
   ]
  },
  {
   "cell_type": "markdown",
   "metadata": {},
   "source": [
    "#Indexing is used for find the place of character"
   ]
  },
  {
   "cell_type": "code",
   "execution_count": 12,
   "metadata": {},
   "outputs": [
    {
     "data": {
      "text/plain": [
       "10"
      ]
     },
     "execution_count": 12,
     "metadata": {},
     "output_type": "execute_result"
    }
   ],
   "source": [
    "#accessing string characters in python\n",
    "word = 'digipodium'\n",
    "len(word)\n"
   ]
  },
  {
   "cell_type": "code",
   "execution_count": 13,
   "metadata": {},
   "outputs": [
    {
     "name": "stdout",
     "output_type": "stream",
     "text": [
      "d\n"
     ]
    }
   ],
   "source": [
    "print(word[-4])"
   ]
  },
  {
   "cell_type": "code",
   "execution_count": 14,
   "metadata": {},
   "outputs": [
    {
     "name": "stdout",
     "output_type": "stream",
     "text": [
      "p\n"
     ]
    }
   ],
   "source": [
    "print(word[4])"
   ]
  },
  {
   "cell_type": "markdown",
   "metadata": {},
   "source": [
    "#slicing..."
   ]
  },
  {
   "cell_type": "code",
   "execution_count": 16,
   "metadata": {},
   "outputs": [
    {
     "name": "stdout",
     "output_type": "stream",
     "text": [
      "pod\n"
     ]
    }
   ],
   "source": [
    "s = 'digipodium'\n",
    "slice = s[4:7]\n",
    "print(slice)"
   ]
  },
  {
   "cell_type": "code",
   "execution_count": 17,
   "metadata": {},
   "outputs": [
    {
     "name": "stdout",
     "output_type": "stream",
     "text": [
      "digi\n"
     ]
    }
   ],
   "source": [
    "s = 'digipodium'\n",
    "slice = s[0:4]\n",
    "print(slice)"
   ]
  },
  {
   "cell_type": "code",
   "execution_count": 18,
   "metadata": {},
   "outputs": [
    {
     "name": "stdout",
     "output_type": "stream",
     "text": [
      "podium\n"
     ]
    }
   ],
   "source": [
    "s = 'digipodium'\n",
    "slice = s[4:11]\n",
    "print(slice)"
   ]
  },
  {
   "cell_type": "code",
   "execution_count": 19,
   "metadata": {},
   "outputs": [
    {
     "data": {
      "text/plain": [
       "'digipodi'"
      ]
     },
     "execution_count": 19,
     "metadata": {},
     "output_type": "execute_result"
    }
   ],
   "source": [
    "#to know from ending\n",
    "s = 'digipodium'\n",
    "s[:-2]\n"
   ]
  },
  {
   "cell_type": "code",
   "execution_count": 20,
   "metadata": {},
   "outputs": [
    {
     "data": {
      "text/plain": [
       "'ipodium'"
      ]
     },
     "execution_count": 20,
     "metadata": {},
     "output_type": "execute_result"
    }
   ],
   "source": [
    "#to know from starting\n",
    "s = 'digipodium'\n",
    "s[3:]\n"
   ]
  },
  {
   "cell_type": "code",
   "execution_count": 1,
   "metadata": {},
   "outputs": [
    {
     "ename": "NameError",
     "evalue": "name 'excelent' is not defined",
     "output_type": "error",
     "traceback": [
      "\u001b[1;31m---------------------------------------------------------------------------\u001b[0m",
      "\u001b[1;31mNameError\u001b[0m                                 Traceback (most recent call last)",
      "\u001b[1;32mc:\\Users\\ACER-PC\\Documents\\DA 2022\\string.ipynb Cell 15'\u001b[0m in \u001b[0;36m<cell line: 1>\u001b[1;34m()\u001b[0m\n\u001b[1;32m----> <a href='vscode-notebook-cell:/c%3A/Users/ACER-PC/Documents/DA%202022/string.ipynb#ch0000014?line=0'>1</a>\u001b[0m s \u001b[39m=\u001b[39m excelent\n\u001b[0;32m      <a href='vscode-notebook-cell:/c%3A/Users/ACER-PC/Documents/DA%202022/string.ipynb#ch0000014?line=1'>2</a>\u001b[0m a \u001b[39m=\u001b[39m s[:\u001b[39m2\u001b[39m]\n\u001b[0;32m      <a href='vscode-notebook-cell:/c%3A/Users/ACER-PC/Documents/DA%202022/string.ipynb#ch0000014?line=2'>3</a>\u001b[0m \u001b[39mprint\u001b[39m(a)\n",
      "\u001b[1;31mNameError\u001b[0m: name 'excelent' is not defined"
     ]
    }
   ],
   "source": [
    "s = excelent\n",
    "a = s[:2]\n",
    "print(a)"
   ]
  },
  {
   "cell_type": "code",
   "execution_count": 25,
   "metadata": {},
   "outputs": [
    {
     "name": "stdout",
     "output_type": "stream",
     "text": [
      "A\n"
     ]
    }
   ],
   "source": [
    "x = chr (65)\n",
    "print(x)"
   ]
  },
  {
   "cell_type": "code",
   "execution_count": 26,
   "metadata": {},
   "outputs": [
    {
     "name": "stdout",
     "output_type": "stream",
     "text": [
      "ऽ\n"
     ]
    }
   ],
   "source": [
    "x = chr (2365)\n",
    "print(x)"
   ]
  },
  {
   "cell_type": "code",
   "execution_count": 29,
   "metadata": {},
   "outputs": [
    {
     "name": "stdout",
     "output_type": "stream",
     "text": [
      "〹\n"
     ]
    }
   ],
   "source": [
    "x = chr (12345)\n",
    "print(x)"
   ]
  },
  {
   "cell_type": "code",
   "execution_count": 1,
   "metadata": {},
   "outputs": [],
   "source": [
    "w = \"therockdwanejhonson\""
   ]
  },
  {
   "cell_type": "code",
   "execution_count": 2,
   "metadata": {},
   "outputs": [
    {
     "data": {
      "text/plain": [
       "['t',\n",
       " 'h',\n",
       " 'e',\n",
       " 'r',\n",
       " 'o',\n",
       " 'c',\n",
       " 'k',\n",
       " 'd',\n",
       " 'w',\n",
       " 'a',\n",
       " 'n',\n",
       " 'e',\n",
       " 'j',\n",
       " 'h',\n",
       " 'o',\n",
       " 'n',\n",
       " 's',\n",
       " 'o',\n",
       " 'n']"
      ]
     },
     "execution_count": 2,
     "metadata": {},
     "output_type": "execute_result"
    }
   ],
   "source": [
    "list(w)"
   ]
  },
  {
   "cell_type": "code",
   "execution_count": 3,
   "metadata": {},
   "outputs": [
    {
     "data": {
      "text/plain": [
       "'hrcdaehno'"
      ]
     },
     "execution_count": 3,
     "metadata": {},
     "output_type": "execute_result"
    }
   ],
   "source": [
    "#get odd character/index\n",
    "w[1::2]   #1 is stand for starting point"
   ]
  },
  {
   "cell_type": "code",
   "execution_count": 4,
   "metadata": {},
   "outputs": [
    {
     "data": {
      "text/plain": [
       "'teokwnjosn'"
      ]
     },
     "execution_count": 4,
     "metadata": {},
     "output_type": "execute_result"
    }
   ],
   "source": [
    "#get even index\n",
    "w[::2] # even index"
   ]
  },
  {
   "cell_type": "code",
   "execution_count": 5,
   "metadata": {},
   "outputs": [
    {
     "data": {
      "text/plain": [
       "'nosnohjenawdkcoreht'"
      ]
     },
     "execution_count": 5,
     "metadata": {},
     "output_type": "execute_result"
    }
   ],
   "source": [
    "#reverse index\n",
    "w[::-1] #starting from ending"
   ]
  },
  {
   "cell_type": "code",
   "execution_count": 9,
   "metadata": {},
   "outputs": [
    {
     "ename": "NameError",
     "evalue": "name 'crd' is not defined",
     "output_type": "error",
     "traceback": [
      "\u001b[1;31m---------------------------------------------------------------------------\u001b[0m",
      "\u001b[1;31mNameError\u001b[0m                                 Traceback (most recent call last)",
      "\u001b[1;32mc:\\Users\\ACER-PC\\Documents\\DA 2022\\string.ipynb Cell 24'\u001b[0m in \u001b[0;36m<cell line: 1>\u001b[1;34m()\u001b[0m\n\u001b[1;32m----> <a href='vscode-notebook-cell:/c%3A/Users/ACER-PC/Documents/DA%202022/string.ipynb#ch0000023?line=0'>1</a>\u001b[0m x \u001b[39m=\u001b[39m crd(d)\n\u001b[0;32m      <a href='vscode-notebook-cell:/c%3A/Users/ACER-PC/Documents/DA%202022/string.ipynb#ch0000023?line=1'>2</a>\u001b[0m \u001b[39mprint\u001b[39m(x)\n",
      "\u001b[1;31mNameError\u001b[0m: name 'crd' is not defined"
     ]
    }
   ],
   "source": [
    "x = ord(d)\n",
    "print(x)"
   ]
  },
  {
   "cell_type": "markdown",
   "metadata": {},
   "source": [
    "#r just is stands for right side , alingment(just stands for)."
   ]
  },
  {
   "cell_type": "code",
   "execution_count": 8,
   "metadata": {},
   "outputs": [
    {
     "name": "stdout",
     "output_type": "stream",
     "text": [
      "              l\n",
      "             ll\n",
      "            lll\n",
      "           llll\n",
      "          lllll\n"
     ]
    }
   ],
   "source": [
    "# right alingment\n",
    "for i in range (1,6):\n",
    "    print((i* 'l').rjust(15))"
   ]
  },
  {
   "cell_type": "code",
   "execution_count": 18,
   "metadata": {},
   "outputs": [
    {
     "name": "stdout",
     "output_type": "stream",
     "text": [
      "              A               \n",
      "             AAA              \n",
      "            AAAAA             \n",
      "           AAAAAAA            \n",
      "          AAAAAAAAA           \n",
      "         AAAAAAAAAAA          \n",
      "        AAAAAAAAAAAAA         \n",
      "       AAAAAAAAAAAAAAA        \n",
      "      AAAAAAAAAAAAAAAAA       \n",
      "     AAAAAAAAAAAAAAAAAAA      \n"
     ]
    }
   ],
   "source": [
    "for i in range(1,20,2):\n",
    "    print((i* 'A').center(30))\n",
    "    "
   ]
  },
  {
   "cell_type": "code",
   "execution_count": 24,
   "metadata": {},
   "outputs": [
    {
     "name": "stdout",
     "output_type": "stream",
     "text": [
      "              *               \n",
      "xxxxxxxxxxxxxx0xxxxxxxxxxxxxxx\n",
      "             ***              \n",
      "xxxxxxxxxxxxx000xxxxxxxxxxxxxx\n",
      "            *****             \n",
      "xxxxxxxxxxxx00000xxxxxxxxxxxxx\n",
      "           *******            \n",
      "xxxxxxxxxxx0000000xxxxxxxxxxxx\n",
      "          *********           \n",
      "xxxxxxxxxx000000000xxxxxxxxxxx\n",
      "         ***********          \n",
      "xxxxxxxxx00000000000xxxxxxxxxx\n",
      "        *************         \n",
      "xxxxxxxx0000000000000xxxxxxxxx\n",
      "       ***************        \n",
      "xxxxxxx000000000000000xxxxxxxx\n",
      "      *****************       \n",
      "xxxxxx00000000000000000xxxxxxx\n",
      "     *******************      \n",
      "xxxxx0000000000000000000xxxxxx\n"
     ]
    }
   ],
   "source": [
    "for i in range(1,20,2):\n",
    "    print((i* '*').center(30))\n",
    "    print((i* '0').center(30,'x'))\n"
   ]
  },
  {
   "cell_type": "markdown",
   "metadata": {},
   "source": [
    " Functions"
   ]
  },
  {
   "cell_type": "code",
   "execution_count": 10,
   "metadata": {},
   "outputs": [
    {
     "name": "stdout",
     "output_type": "stream",
     "text": [
      "Object `w.center` not found.\n"
     ]
    }
   ],
   "source": [
    "w.center?"
   ]
  },
  {
   "cell_type": "markdown",
   "metadata": {},
   "source": [
    "fillchar = is stands for spacing area, it fills symbols and character between spacing area."
   ]
  },
  {
   "cell_type": "code",
   "execution_count": 4,
   "metadata": {},
   "outputs": [],
   "source": [
    "story =\"\"\"Steroids are a man-made version of hormones normally produced by the adrenal glands which are 2 small glands found above the kidneys.\n",
    "\n",
    "When taken in doses higher than the amount your body normally produces, steroids reduce redness and swelling (inflammation). This can help with inflammatory conditions such as asthma and eczema.\n",
    "\n",
    "Steroids also reduce the activity of the immune system, which is the body's natural defence against illness and infection.\n",
    "\n",
    "This can help treat autoimmune conditions, such as rheumatoid arthritis or lupus, which are caused by the immune system mistakenly attacking the body.\"\"\""
   ]
  },
  {
   "cell_type": "markdown",
   "metadata": {},
   "source": [
    "# uses of string functions....very important"
   ]
  },
  {
   "cell_type": "code",
   "execution_count": 5,
   "metadata": {},
   "outputs": [
    {
     "data": {
      "text/plain": [
       "605"
      ]
     },
     "execution_count": 5,
     "metadata": {},
     "output_type": "execute_result"
    }
   ],
   "source": [
    "len(story)"
   ]
  },
  {
   "cell_type": "code",
   "execution_count": 31,
   "metadata": {},
   "outputs": [
    {
     "name": "stdout",
     "output_type": "stream",
     "text": [
      "93\n"
     ]
    }
   ],
   "source": [
    "words = story.split() \n",
    "print(len(words))\n"
   ]
  },
  {
   "cell_type": "code",
   "execution_count": 33,
   "metadata": {},
   "outputs": [
    {
     "data": {
      "text/plain": [
       "['Steroids are a man-made version of hormones normally produced by ',\n",
       " ' adrenal glands which are 2 small glands found above ',\n",
       " ' kidneys.\\n\\nWhen taken in doses higher than ',\n",
       " ' amount your body normally produces, steroids reduce redness and swelling (inflammation). This can help with inflammatory conditions such as asthma and eczema.\\n\\nSteroids also reduce ',\n",
       " ' activity of ',\n",
       " ' immune system, which is ',\n",
       " \" body's natural defence against illness and infection.\\n\\nThis can help treat autoimmune conditions, such as rheumatoid arthritis or lupus, which are caused by \",\n",
       " ' immune system mistakenly attacking ',\n",
       " ' body.']"
      ]
     },
     "execution_count": 33,
     "metadata": {},
     "output_type": "execute_result"
    }
   ],
   "source": [
    "story.split('the') # split from 'the'"
   ]
  },
  {
   "cell_type": "code",
   "execution_count": 6,
   "metadata": {},
   "outputs": [
    {
     "data": {
      "text/plain": [
       "['Steroids are a man-made version of hormones normally produced by ',\n",
       " ' adrenal glands which are 2 small glands found above ',\n",
       " ' kidneys.\\n\\nWhen taken in doses higher than ',\n",
       " ' amount your body normally produces, steroids reduce redness and swelling (inflammation). This can help with inflammatory conditions such as asthma and eczema.\\n\\nSteroids also reduce ',\n",
       " ' activity of ',\n",
       " ' immune system, which is ',\n",
       " \" body's natural defence against illness and infection.\\n\\nThis can help treat autoimmune conditions, such as rheumatoid arthritis or lupus, which are caused by the immune system mistakenly attacking the body.\"]"
      ]
     },
     "execution_count": 6,
     "metadata": {},
     "output_type": "execute_result"
    }
   ],
   "source": [
    "story.split('the',6) # 6 present for max split, it fixes split.     "
   ]
  },
  {
   "cell_type": "markdown",
   "metadata": {},
   "source": [
    "# for joining string(statement)"
   ]
  },
  {
   "cell_type": "code",
   "execution_count": 36,
   "metadata": {},
   "outputs": [],
   "source": [
    "world = ['i','am','the','warrior']"
   ]
  },
  {
   "cell_type": "code",
   "execution_count": 37,
   "metadata": {},
   "outputs": [
    {
     "data": {
      "text/plain": [
       "'iamthewarrior'"
      ]
     },
     "execution_count": 37,
     "metadata": {},
     "output_type": "execute_result"
    }
   ],
   "source": [
    "''.join(world)"
   ]
  },
  {
   "cell_type": "markdown",
   "metadata": {},
   "source": [
    "# replace "
   ]
  },
  {
   "cell_type": "code",
   "execution_count": 38,
   "metadata": {},
   "outputs": [
    {
     "data": {
      "text/plain": [
       "\"Steroids are a man-made version of hormones normally produced by The adrenal glands which are 2 small glands found above The kidneys.\\n\\nWhen taken in doses higher than The amount your body normally produces, steroids reduce redness and swelling (inflammation). This can help with inflammatory conditions such as asthma and eczema.\\n\\nSteroids also reduce The activity of The immune system, which is The body's natural defence against illness and infection.\\n\\nThis can help treat autoimmune conditions, such as rheumatoid arthritis or lupus, which are caused by The immune system mistakenly attacking The body.\""
      ]
     },
     "execution_count": 38,
     "metadata": {},
     "output_type": "execute_result"
    }
   ],
   "source": [
    "story.replace('the','The') # first enter 'original value', second 'new value'"
   ]
  },
  {
   "cell_type": "code",
   "execution_count": 39,
   "metadata": {},
   "outputs": [
    {
     "data": {
      "text/plain": [
       "\"Steroids are a man-made version of hormones normally produced by The adrenal glands which are 2 small glands found above The kidneys.\\n\\nWhen taken in doses higher than the amount your body normally produces, steroids reduce redness and swelling (inflammation). This can help with inflammatory conditions such as asthma and eczema.\\n\\nSteroids also reduce the activity of the immune system, which is the body's natural defence against illness and infection.\\n\\nThis can help treat autoimmune conditions, such as rheumatoid arthritis or lupus, which are caused by the immune system mistakenly attacking the body.\""
      ]
     },
     "execution_count": 39,
     "metadata": {},
     "output_type": "execute_result"
    }
   ],
   "source": [
    "story.replace('the','The',2)# 2 sets forlimits"
   ]
  },
  {
   "cell_type": "code",
   "execution_count": 7,
   "metadata": {},
   "outputs": [
    {
     "data": {
      "text/plain": [
       "\"STEROIDS ARE A MAN-MADE VERSION OF HORMONES NORMALLY PRODUCED BY THE ADRENAL GLANDS WHICH ARE 2 SMALL GLANDS FOUND ABOVE THE KIDNEYS.\\n\\nWHEN TAKEN IN DOSES HIGHER THAN THE AMOUNT YOUR BODY NORMALLY PRODUCES, STEROIDS REDUCE REDNESS AND SWELLING (INFLAMMATION). THIS CAN HELP WITH INFLAMMATORY CONDITIONS SUCH AS ASTHMA AND ECZEMA.\\n\\nSTEROIDS ALSO REDUCE THE ACTIVITY OF THE IMMUNE SYSTEM, WHICH IS THE BODY'S NATURAL DEFENCE AGAINST ILLNESS AND INFECTION.\\n\\nTHIS CAN HELP TREAT AUTOIMMUNE CONDITIONS, SUCH AS RHEUMATOID ARTHRITIS OR LUPUS, WHICH ARE CAUSED BY THE IMMUNE SYSTEM MISTAKENLY ATTACKING THE BODY.\""
      ]
     },
     "execution_count": 7,
     "metadata": {},
     "output_type": "execute_result"
    }
   ],
   "source": [
    "story.upper()"
   ]
  },
  {
   "cell_type": "code",
   "execution_count": 8,
   "metadata": {},
   "outputs": [
    {
     "data": {
      "text/plain": [
       "\"steroids are a man-made version of hormones normally produced by the adrenal glands which are 2 small glands found above the kidneys.\\n\\nwhen taken in doses higher than the amount your body normally produces, steroids reduce redness and swelling (inflammation). this can help with inflammatory conditions such as asthma and eczema.\\n\\nsteroids also reduce the activity of the immune system, which is the body's natural defence against illness and infection.\\n\\nthis can help treat autoimmune conditions, such as rheumatoid arthritis or lupus, which are caused by the immune system mistakenly attacking the body.\""
      ]
     },
     "execution_count": 8,
     "metadata": {},
     "output_type": "execute_result"
    }
   ],
   "source": [
    "story.lower()"
   ]
  },
  {
   "cell_type": "code",
   "execution_count": 9,
   "metadata": {},
   "outputs": [
    {
     "data": {
      "text/plain": [
       "\"Steroids are a man-made version of hormones normally produced by the adrenal glands which are 2 small glands found above the kidneys.\\n\\nwhen taken in doses higher than the amount your body normally produces, steroids reduce redness and swelling (inflammation). this can help with inflammatory conditions such as asthma and eczema.\\n\\nsteroids also reduce the activity of the immune system, which is the body's natural defence against illness and infection.\\n\\nthis can help treat autoimmune conditions, such as rheumatoid arthritis or lupus, which are caused by the immune system mistakenly attacking the body.\""
      ]
     },
     "execution_count": 9,
     "metadata": {},
     "output_type": "execute_result"
    }
   ],
   "source": [
    "story.capitalize()"
   ]
  },
  {
   "cell_type": "code",
   "execution_count": 13,
   "metadata": {},
   "outputs": [
    {
     "data": {
      "text/plain": [
       "\"Steroids are a man-made version of hormones normally produced by the adrenal glands which are 2 small glands found above the kidneys.\\n\\nwhen taken in doses higher than the amount your body normally produces, steroids reduce redness and swelling (inflammation). this can help with inflammatory conditions such as asthma and eczema.\\n\\nsteroids also reduce the activity of the immune system, which is the body's natural defence against illness and infection.\\n\\nthis can help treat autoimmune conditions, such as rheumatoid arthritis or lupus, which are caused by the immune system mistakenly attacking the body.\""
      ]
     },
     "execution_count": 13,
     "metadata": {},
     "output_type": "execute_result"
    }
   ],
   "source": [
    "story.strip().capitalize() #this is called chaining.capitalized used to make first letter in caps"
   ]
  },
  {
   "cell_type": "code",
   "execution_count": 14,
   "metadata": {},
   "outputs": [
    {
     "name": "stdout",
     "output_type": "stream",
     "text": [
      "\u001b[1;31mSignature:\u001b[0m \u001b[0mstory\u001b[0m\u001b[1;33m.\u001b[0m\u001b[0mstrip\u001b[0m\u001b[1;33m(\u001b[0m\u001b[0mchars\u001b[0m\u001b[1;33m=\u001b[0m\u001b[1;32mNone\u001b[0m\u001b[1;33m,\u001b[0m \u001b[1;33m/\u001b[0m\u001b[1;33m)\u001b[0m\u001b[1;33m\u001b[0m\u001b[1;33m\u001b[0m\u001b[0m\n",
      "\u001b[1;31mDocstring:\u001b[0m\n",
      "Return a copy of the string with leading and trailing whitespace removed.\n",
      "\n",
      "If chars is given and not None, remove characters in chars instead.\n",
      "\u001b[1;31mType:\u001b[0m      builtin_function_or_method\n"
     ]
    }
   ],
   "source": [
    "story.strip?"
   ]
  },
  {
   "cell_type": "code",
   "execution_count": 15,
   "metadata": {},
   "outputs": [
    {
     "data": {
      "text/plain": [
       "\"sTEROIDS ARE A MAN-MADE VERSION OF HORMONES NORMALLY PRODUCED BY THE ADRENAL GLANDS WHICH ARE 2 SMALL GLANDS FOUND ABOVE THE KIDNEYS.\\n\\nwHEN TAKEN IN DOSES HIGHER THAN THE AMOUNT YOUR BODY NORMALLY PRODUCES, STEROIDS REDUCE REDNESS AND SWELLING (INFLAMMATION). tHIS CAN HELP WITH INFLAMMATORY CONDITIONS SUCH AS ASTHMA AND ECZEMA.\\n\\nsTEROIDS ALSO REDUCE THE ACTIVITY OF THE IMMUNE SYSTEM, WHICH IS THE BODY'S NATURAL DEFENCE AGAINST ILLNESS AND INFECTION.\\n\\ntHIS CAN HELP TREAT AUTOIMMUNE CONDITIONS, SUCH AS RHEUMATOID ARTHRITIS OR LUPUS, WHICH ARE CAUSED BY THE IMMUNE SYSTEM MISTAKENLY ATTACKING THE BODY.\""
      ]
     },
     "execution_count": 15,
     "metadata": {},
     "output_type": "execute_result"
    }
   ],
   "source": [
    "story.swapcase()#convert upper case in to lower case"
   ]
  },
  {
   "cell_type": "code",
   "execution_count": 4,
   "metadata": {},
   "outputs": [
    {
     "data": {
      "text/plain": [
       "False"
      ]
     },
     "execution_count": 4,
     "metadata": {},
     "output_type": "execute_result"
    }
   ],
   "source": [
    "msg = input('enter anything:') # to check string have alphabets or not\n",
    "msg.isalpha()"
   ]
  },
  {
   "cell_type": "code",
   "execution_count": 1,
   "metadata": {},
   "outputs": [
    {
     "name": "stdout",
     "output_type": "stream",
     "text": [
      "invalid number\n"
     ]
    }
   ],
   "source": [
    "msg = input('enter anything:')# for checking user input is in ,numeric or alpha.\n",
    "if msg.isnumeric():\n",
    "    print ('valid number')\n",
    "else:\n",
    "    print('invalid number')"
   ]
  },
  {
   "cell_type": "code",
   "execution_count": 25,
   "metadata": {},
   "outputs": [
    {
     "data": {
      "text/plain": [
       "45"
      ]
     },
     "execution_count": 25,
     "metadata": {},
     "output_type": "execute_result"
    }
   ],
   "source": [
    "story.count('a')#for counting sub string in the story"
   ]
  },
  {
   "cell_type": "code",
   "execution_count": 27,
   "metadata": {},
   "outputs": [
    {
     "name": "stdout",
     "output_type": "stream",
     "text": [
      "a 45\n",
      "b 6\n",
      "c 19\n",
      "d 27\n",
      "e 51\n",
      "f 7\n",
      "g 6\n",
      "h 29\n",
      "i 36\n",
      "j 0\n",
      "k 4\n",
      "l 21\n",
      "m 23\n",
      "n 40\n",
      "o 31\n",
      "p 5\n",
      "q 0\n",
      "r 25\n",
      "s 39\n",
      "t 36\n",
      "u 18\n",
      "v 3\n",
      "w 5\n",
      "x 0\n",
      "y 14\n",
      "z 1\n"
     ]
    }
   ],
   "source": [
    "for char in \"abcdefghijklmnopqrstuvwxyz\":\n",
    "    print(char,story.count(char))"
   ]
  },
  {
   "cell_type": "code",
   "execution_count": 3,
   "metadata": {},
   "outputs": [
    {
     "name": "stdout",
     "output_type": "stream",
     "text": [
      "triple h 8\n"
     ]
    }
   ],
   "source": [
    "#strip is used for remove space\n",
    "name = input('enter your name')\n",
    "print(name,len(name))"
   ]
  },
  {
   "cell_type": "code",
   "execution_count": 5,
   "metadata": {},
   "outputs": [],
   "source": [
    "name = name.strip()\n",
    "print(name,len(name))"
   ]
  },
  {
   "cell_type": "markdown",
   "metadata": {},
   "source": [
    "# questions very important\n",
    "Remove all vowels in the string"
   ]
  },
  {
   "cell_type": "code",
   "execution_count": 36,
   "metadata": {},
   "outputs": [
    {
     "name": "stdout",
     "output_type": "stream",
     "text": [
      "i m yush  good boy hve n bike\n",
      "i m yush  good boy hv n bik\n",
      " m yush  good boy hv n bk\n",
      " m yush  gd by hv n bk\n",
      " m ysh  gd by hv n bk\n"
     ]
    }
   ],
   "source": [
    "vowels = 'aeiou'\n",
    "message = 'i am ayush a good boy have an bike'\n",
    "for vowel in vowels:\n",
    "    message = message.replace(vowel,'')\n",
    "    print(message)"
   ]
  },
  {
   "cell_type": "markdown",
   "metadata": {},
   "source": [
    "count all vowels in string give by user"
   ]
  },
  {
   "cell_type": "code",
   "execution_count": 39,
   "metadata": {},
   "outputs": [
    {
     "ename": "SyntaxError",
     "evalue": "invalid syntax (3449049055.py, line 3)",
     "output_type": "error",
     "traceback": [
      "\u001b[1;36m  Input \u001b[1;32mIn [39]\u001b[1;36m\u001b[0m\n\u001b[1;33m    print(count'msg')\u001b[0m\n\u001b[1;37m               ^\u001b[0m\n\u001b[1;31mSyntaxError\u001b[0m\u001b[1;31m:\u001b[0m invalid syntax\n"
     ]
    }
   ],
   "source": [
    "for vowel in vowels\n",
    "   print(f'{vowel}occurs \""
   ]
  },
  {
   "cell_type": "code",
   "execution_count": null,
   "metadata": {},
   "outputs": [],
   "source": []
  }
 ],
 "metadata": {
  "interpreter": {
   "hash": "1db1e46687607773b5deea1fcae2ec01a768c1fc8772b834ede2f540618042fb"
  },
  "kernelspec": {
   "display_name": "Python 3.9.7 ('base')",
   "language": "python",
   "name": "python3"
  },
  "language_info": {
   "codemirror_mode": {
    "name": "ipython",
    "version": 3
   },
   "file_extension": ".py",
   "mimetype": "text/x-python",
   "name": "python",
   "nbconvert_exporter": "python",
   "pygments_lexer": "ipython3",
   "version": "3.9.7"
  },
  "orig_nbformat": 4
 },
 "nbformat": 4,
 "nbformat_minor": 2
}
