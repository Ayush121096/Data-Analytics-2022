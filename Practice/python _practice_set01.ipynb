{
 "cells": [
  {
   "cell_type": "markdown",
   "metadata": {},
   "source": [
    "#Dictionary & Sets\n"
   ]
  },
  {
   "cell_type": "code",
   "execution_count": 23,
   "metadata": {},
   "outputs": [
    {
     "name": "stdout",
     "output_type": "stream",
     "text": [
      "Ayush Dwivedi\n",
      "[75]\n",
      "[[75], 'Ayush Dwivedi']\n",
      "[('Numbers', [75]), ('Name', 'Ayush Dwivedi')]\n"
     ]
    },
    {
     "ename": "AttributeError",
     "evalue": "'dict' object attribute 'update' is read-only",
     "output_type": "error",
     "traceback": [
      "\u001b[1;31m---------------------------------------------------------------------------\u001b[0m",
      "\u001b[1;31mAttributeError\u001b[0m                            Traceback (most recent call last)",
      "\u001b[1;32mc:\\Users\\ACER-PC\\Documents\\DA 2022\\Practice\\python _practice_set01.ipynb Cell 2'\u001b[0m in \u001b[0;36m<cell line: 7>\u001b[1;34m()\u001b[0m\n\u001b[0;32m      <a href='vscode-notebook-cell:/c%3A/Users/ACER-PC/Documents/DA%202022/Practice/python%20_practice_set01.ipynb#ch0000000?line=4'>5</a>\u001b[0m \u001b[39mprint\u001b[39m(\u001b[39mlist\u001b[39m(mydict\u001b[39m.\u001b[39mvalues()))\u001b[39m# to print keys and values \u001b[39;00m\n\u001b[0;32m      <a href='vscode-notebook-cell:/c%3A/Users/ACER-PC/Documents/DA%202022/Practice/python%20_practice_set01.ipynb#ch0000000?line=5'>6</a>\u001b[0m \u001b[39mprint\u001b[39m(\u001b[39mlist\u001b[39m(mydict\u001b[39m.\u001b[39mitems())) \u001b[39m# to print the key, value for all the content\u001b[39;00m\n\u001b[1;32m----> <a href='vscode-notebook-cell:/c%3A/Users/ACER-PC/Documents/DA%202022/Practice/python%20_practice_set01.ipynb#ch0000000?line=6'>7</a>\u001b[0m mydict\u001b[39m.\u001b[39mupdate \u001b[39m=\u001b[39m{\u001b[39m\"\u001b[39m\u001b[39mnew\u001b[39m\u001b[39m\"\u001b[39m: \u001b[39m'\u001b[39m\u001b[39mwhat is new\u001b[39m\u001b[39m'\u001b[39m}\n\u001b[0;32m      <a href='vscode-notebook-cell:/c%3A/Users/ACER-PC/Documents/DA%202022/Practice/python%20_practice_set01.ipynb#ch0000000?line=7'>8</a>\u001b[0m \u001b[39mprint\u001b[39m(mydict)\n",
      "\u001b[1;31mAttributeError\u001b[0m: 'dict' object attribute 'update' is read-only"
     ]
    }
   ],
   "source": [
    "mydict = {\"Numbers\": [75], \"Name\": 'Ayush Dwivedi'}\n",
    "print(mydict['Name'])\n",
    "print(mydict['Numbers'])\n",
    "# while print write in [], in seperate lines\n",
    "print(list(mydict.values()))# to print keys and values \n",
    "print(list(mydict.items())) # to print the key, value for all the content\n",
    "mydict.update ={\"new\": 'what is new'}\n",
    "print(mydict) "
   ]
  },
  {
   "cell_type": "code",
   "execution_count": null,
   "metadata": {},
   "outputs": [],
   "source": []
  },
  {
   "cell_type": "code",
   "execution_count": null,
   "metadata": {},
   "outputs": [],
   "source": []
  }
 ],
 "metadata": {
  "kernelspec": {
   "display_name": "Python 3.9.7 ('base')",
   "language": "python",
   "name": "python3"
  },
  "language_info": {
   "codemirror_mode": {
    "name": "ipython",
    "version": 3
   },
   "file_extension": ".py",
   "mimetype": "text/x-python",
   "name": "python",
   "nbconvert_exporter": "python",
   "pygments_lexer": "ipython3",
   "version": "3.9.7"
  },
  "orig_nbformat": 4,
  "vscode": {
   "interpreter": {
    "hash": "10a06628a7c03afd3662681998d3c2bdc7c28b47c4cd69668980007d21c044b0"
   }
  }
 },
 "nbformat": 4,
 "nbformat_minor": 2
}
